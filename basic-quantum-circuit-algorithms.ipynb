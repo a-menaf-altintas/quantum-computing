{
 "cells": [
  {
   "cell_type": "code",
   "execution_count": 1,
   "id": "038c2232",
   "metadata": {},
   "outputs": [],
   "source": [
    "# Author: Abdulmenaf Altintas\n",
    "\n",
    "from qiskit import *\n",
    "from qiskit.visualization import plot_histogram"
   ]
  },
  {
   "cell_type": "code",
   "execution_count": 2,
   "id": "0dae398a",
   "metadata": {},
   "outputs": [],
   "source": [
    "# show figures in line\n",
    "%matplotlib inline"
   ]
  },
  {
   "cell_type": "code",
   "execution_count": 3,
   "id": "8856c1cf",
   "metadata": {},
   "outputs": [],
   "source": [
    "quantum_circuit = QuantumCircuit(3,3)  # use 3 quantum and classical registers"
   ]
  },
  {
   "cell_type": "code",
   "execution_count": 4,
   "id": "222f313d",
   "metadata": {},
   "outputs": [
    {
     "data": {
      "image/png": "[encoded data removed]",
      "text/plain": [
       "<Figure size 116.697x264.88 with 1 Axes>"
      ]
     },
     "execution_count": 4,
     "metadata": {},
     "output_type": "execute_result"
    }
   ],
   "source": [
    "quantum_circuit.draw(output=\"mpl\") # visuulize initial circuit"
   ]
  },
  {
   "cell_type": "code",
   "execution_count": 5,
   "id": "b948b15f",
   "metadata": {},
   "outputs": [
    {
     "data": {
      "image/png": "[encoded data removed]",
      "text/plain": [
       "<Figure size 146.797x264.88 with 1 Axes>"
      ]
     },
     "execution_count": 5,
     "metadata": {},
     "output_type": "execute_result"
    }
   ],
   "source": [
    "quantum_circuit.h(0)\n",
    "quantum_circuit.h(1)\n",
    "quantum_circuit.draw(output=\"mpl\")"
   ]
  },
  {
   "cell_type": "code",
   "execution_count": 6,
   "id": "7179a130",
   "metadata": {},
   "outputs": [
    {
     "data": {
      "image/png": "[encoded data removed]",
      "text/plain": [
       "<Figure size 387.597x264.88 with 1 Axes>"
      ]
     },
     "execution_count": 6,
     "metadata": {},
     "output_type": "execute_result"
    }
   ],
   "source": [
    "quantum_circuit.cx(1,2)  # 1 for control qubit and 2 is for target qubit\n",
    "quantum_circuit.measure([0, 1, 2], [0, 1, 2])  # add measurement\n",
    "quantum_circuit.draw(output=\"mpl\")"
   ]
  },
  {
   "cell_type": "code",
   "execution_count": 7,
   "id": "6bd99e64",
   "metadata": {},
   "outputs": [],
   "source": [
    "quantum_simulator = Aer.get_backend(\"qasm_simulator\")"
   ]
  },
  {
   "cell_type": "code",
   "execution_count": 8,
   "id": "5fb24d33",
   "metadata": {},
   "outputs": [],
   "source": [
    "get_result = execute(quantum_circuit, backend=quantum_simulator).result()"
   ]
  },
  {
   "cell_type": "code",
   "execution_count": 9,
   "id": "73416ef0",
   "metadata": {},
   "outputs": [
    {
     "data": {
      "image/png": "[encoded data removed]",
      "text/plain": [
       "<Figure size 504x360 with 1 Axes>"
      ]
     },
     "execution_count": 9,
     "metadata": {},
     "output_type": "execute_result"
    }
   ],
   "source": [
    "plot_histogram(get_result.get_counts(quantum_circuit))"
   ]
  },
  {
   "cell_type": "code",
   "execution_count": 10,
   "id": "8a817278",
   "metadata": {},
   "outputs": [
    {
     "name": "stderr",
     "output_type": "stream",
     "text": [
      "configrc.store_credentials:WARNING:2022-01-22 16:56:57,158: Credentials already present. Set overwrite=True to overwrite.\n"
     ]
    }
   ],
   "source": [
    "# run on real quantum computer\n",
    "\n",
    "IBMQ.save_account(open(\"../IBM/useIBMlocally.txt\").read())"
   ]
  },
  {
   "cell_type": "code",
   "execution_count": 11,
   "id": "21f6f92f",
   "metadata": {},
   "outputs": [
    {
     "data": {
      "text/plain": [
       "<AccountProvider for IBMQ(hub='ibm-q', group='open', project='main')>"
      ]
     },
     "execution_count": 11,
     "metadata": {},
     "output_type": "execute_result"
    }
   ],
   "source": [
    "IBMQ.load_account()"
   ]
  },
  {
   "cell_type": "code",
   "execution_count": 12,
   "id": "30f18065",
   "metadata": {},
   "outputs": [],
   "source": [
    "qc_providers = IBMQ.get_provider(\"ibm-q\")"
   ]
  },
  {
   "cell_type": "code",
   "execution_count": 13,
   "id": "8c86af4c",
   "metadata": {},
   "outputs": [
    {
     "data": {
      "text/plain": [
       "[<IBMQSimulator('ibmq_qasm_simulator') from IBMQ(hub='ibm-q', group='open', project='main')>,\n",
       " <IBMQBackend('ibmq_armonk') from IBMQ(hub='ibm-q', group='open', project='main')>,\n",
       " <IBMQBackend('ibmq_santiago') from IBMQ(hub='ibm-q', group='open', project='main')>,\n",
       " <IBMQBackend('ibmq_bogota') from IBMQ(hub='ibm-q', group='open', project='main')>,\n",
       " <IBMQBackend('ibmq_lima') from IBMQ(hub='ibm-q', group='open', project='main')>,\n",
       " <IBMQBackend('ibmq_belem') from IBMQ(hub='ibm-q', group='open', project='main')>,\n",
       " <IBMQBackend('ibmq_quito') from IBMQ(hub='ibm-q', group='open', project='main')>,\n",
       " <IBMQSimulator('simulator_statevector') from IBMQ(hub='ibm-q', group='open', project='main')>,\n",
       " <IBMQSimulator('simulator_mps') from IBMQ(hub='ibm-q', group='open', project='main')>,\n",
       " <IBMQSimulator('simulator_extended_stabilizer') from IBMQ(hub='ibm-q', group='open', project='main')>,\n",
       " <IBMQSimulator('simulator_stabilizer') from IBMQ(hub='ibm-q', group='open', project='main')>,\n",
       " <IBMQBackend('ibmq_manila') from IBMQ(hub='ibm-q', group='open', project='main')>]"
      ]
     },
     "execution_count": 13,
     "metadata": {},
     "output_type": "execute_result"
    }
   ],
   "source": [
    "qc_providers.backends()"
   ]
  },
  {
   "cell_type": "code",
   "execution_count": 14,
   "id": "07458127",
   "metadata": {},
   "outputs": [
    {
     "name": "stdout",
     "output_type": "stream",
     "text": [
      "ibmq_qasm_simulator is a simulator\n",
      "ibmq_armonk => 15 job(s) are pending and ibmq_armonk has 1 qubits.\n",
      "ibmq_santiago => 2097 job(s) are pending and ibmq_santiago has 5 qubits.\n",
      "ibmq_bogota => 15 job(s) are pending and ibmq_bogota has 5 qubits.\n",
      "ibmq_lima => 17 job(s) are pending and ibmq_lima has 5 qubits.\n",
      "ibmq_belem => 47 job(s) are pending and ibmq_belem has 5 qubits.\n",
      "ibmq_quito => 309 job(s) are pending and ibmq_quito has 5 qubits.\n",
      "simulator_statevector is a simulator\n",
      "simulator_mps is a simulator\n",
      "simulator_extended_stabilizer is a simulator\n",
      "simulator_stabilizer is a simulator\n",
      "ibmq_manila => 347 job(s) are pending and ibmq_manila has 5 qubits.\n"
     ]
    }
   ],
   "source": [
    "for qc_computer in qc_providers.backends():\n",
    "    try:\n",
    "        n_qubits = len(qc_computer.properties().qubits)\n",
    "        print(f\"{qc_computer.name()} => {qc_computer.status().pending_jobs} job(s) are pending and {qc_computer.name()} has {n_qubits} qubits.\")\n",
    "    except:\n",
    "        n_qubits = \"quantum_simulator\"\n",
    "        print(f\"{qc_computer.name()} is a simulator\")\n",
    "            "
   ]
  },
  {
   "cell_type": "code",
   "execution_count": 15,
   "id": "26c8e5f5",
   "metadata": {},
   "outputs": [],
   "source": [
    "qc_get_computer = qc_providers.get_backend(\"ibmq_belem\")"
   ]
  },
  {
   "cell_type": "code",
   "execution_count": 16,
   "id": "3e19048b",
   "metadata": {},
   "outputs": [
    {
     "data": {
      "application/vnd.jupyter.widget-view+json": {
       "model_id": "00cba68ce3ad415b81320014856e5a93",
       "version_major": 2,
       "version_minor": 0
      },
      "text/plain": [
       "Accordion(children=(VBox(layout=Layout(max_width='710px', min_width='710px')),), layout=Layout(max_height='500…"
      ]
     },
     "metadata": {},
     "output_type": "display_data"
    },
    {
     "data": {
      "application/javascript": [
       "\n",
       "        const isLab = window['Jupyter'] === undefined;\n",
       "        const notebook = document.querySelector( isLab ? 'div.jp-Notebook' : '#site');\n",
       "        const jobWidget = document.querySelector('div.job_widget');\n",
       "        notebook.prepend(jobWidget);\n",
       "        jobWidget.style.zIndex = '999';\n",
       "        jobWidget.style.position = isLab ? 'sticky' : 'fixed';\n",
       "        jobWidget.style.boxShadow = '5px 5px 5px -3px black';\n",
       "        jobWidget.style.opacity = '0.95';\n",
       "        if (isLab) {\n",
       "            jobWidget.style.top = '0';\n",
       "            jobWidget.style.left = '0';\n",
       "        }\n",
       "        "
      ],
      "text/plain": [
       "<IPython.core.display.Javascript object>"
      ]
     },
     "metadata": {},
     "output_type": "display_data"
    },
    {
     "name": "stdout",
     "output_type": "stream",
     "text": [
      "Job Status: job has successfully run\n"
     ]
    }
   ],
   "source": [
    "# watch job status\n",
    "\n",
    "import qiskit.tools.jupyter\n",
    "from qiskit.tools.monitor import job_monitor\n",
    "\n",
    "%qiskit_job_watcher\n",
    "\n",
    "job_executed = execute(quantum_circuit, backend=qc_get_computer)\n",
    "\n",
    "job_monitor(job_executed)"
   ]
  },
  {
   "cell_type": "code",
   "execution_count": 17,
   "id": "1291cc80",
   "metadata": {},
   "outputs": [
    {
     "data": {
      "image/png": "[encoded data removed]",
      "text/plain": [
       "<Figure size 504x360 with 1 Axes>"
      ]
     },
     "execution_count": 17,
     "metadata": {},
     "output_type": "execute_result"
    }
   ],
   "source": [
    "# get results of computation\n",
    "\n",
    "qc_compute_result = job_executed.result()\n",
    "\n",
    "plot_histogram(qc_compute_result.get_counts(quantum_circuit))"
   ]
  },
  {
   "cell_type": "code",
   "execution_count": null,
   "id": "0e8a1241",
   "metadata": {},
   "outputs": [],
   "source": []
  }
 ],
 "metadata": {
  "kernelspec": {
   "display_name": "venv",
   "language": "python",
   "name": "venv"
  },
  "language_info": {
   "codemirror_mode": {
    "name": "ipython",
    "version": 3
   },
   "file_extension": ".py",
   "mimetype": "text/x-python",
   "name": "python",
   "nbconvert_exporter": "python",
   "pygments_lexer": "ipython3",
   "version": "3.6.9"
  }
 },
 "nbformat": 4,
 "nbformat_minor": 5
}
